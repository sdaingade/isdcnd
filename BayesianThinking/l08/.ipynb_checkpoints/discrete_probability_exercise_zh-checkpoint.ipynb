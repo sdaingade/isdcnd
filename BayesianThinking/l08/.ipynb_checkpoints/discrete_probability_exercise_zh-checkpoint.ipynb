{
 "cells": [
  {
   "cell_type": "markdown",
   "metadata": {},
   "source": [
    "\n",
    "# 离散概率 \n",
    "\n",
    "你有两枚骰子，两枚普通的六面骰子，点数从一到六。\n",
    "\n",
    "你拿起骰子掷出，把得到的点数相加求和。比如，如果掷得4和5，总和为9。\n",
    "\n",
    "\n",
    "![alt text](dice.png)\n",
    "\n",
    "\n",
    "现在，你很好奇，想知道哪些点数总和最有可能出现。所以你决定重复实验两千次，然后分析结果。\n",
    "\n",
    "你一遍遍掷骰子，每次都记下得到的点数之和。"
   ]
  },
  {
   "cell_type": "markdown",
   "metadata": {},
   "source": [
    "# 你的实验结果\n",
    "\n",
    "以下是实验结果。左手一栏是点数总和，右手一栏则是相应结果在两千次试验中出现的次数:\n",
    "\n",
    "| 点数总和 | 次数   |\n",
    "| ---- | ---- |\n",
    "| 2    | 54   |\n",
    "| 3    | 111  |\n",
    "| 4    | 163  |\n",
    "| 5    | 222  |\n",
    "| 6    | 277  |\n",
    "| 7    | 336  |\n",
    "| 8    | 276  |\n",
    "| 9    | 220  |\n",
    "| 10   | 171  |\n",
    "| 11   | 111  |\n",
    "| 12   | 59   |\n",
    "\n",
    "你的任务是分析这些结果，将它们转为离散概率分布。\n",
    "\n",
    "依照Ipython Notebook的指引完成每个练习和范例，我们在课程下一部分提供了练习答案。"
   ]
  },
  {
   "cell_type": "markdown",
   "metadata": {},
   "source": [
    "#  练习： 创建列表\n",
    "\n",
    "为了分析结果，你需要把结果整理成数据结构。在这个案例中，可以使用Python列表。\n",
    "\n",
    "Python列表从名字就可以知道它是什么：值组成的列表。\n",
    "如果你现在有`1 5 19 25 30`这几个值, 以下方法可以将它们转为Python 列表:\n",
    "\n",
    "```python\n",
    "listexample = [1, 5, 19, 25, 30]\n",
    "```"
   ]
  },
  {
   "cell_type": "code",
   "execution_count": null,
   "metadata": {},
   "outputs": [],
   "source": [
    "#### \n",
    "# TODO: Create a Python list of the values in the 'Count' column.\n",
    "# Your list should start with 54 and follow the same order\n",
    "# as the data in the column: 54, 111, 163, etc.\n",
    "###\n",
    "\n",
    "count_data = []"
   ]
  },
  {
   "cell_type": "markdown",
   "metadata": {},
   "source": [
    "# 范例: 打印你的列表\n",
    "\n",
    "运行以下代码并打印出你的列表。这段代码用for循环遍历列表中的每个值。请注意代码句法，因为很快你会需要写下自己的for循环。"
   ]
  },
  {
   "cell_type": "code",
   "execution_count": null,
   "metadata": {},
   "outputs": [],
   "source": [
    "# Run this code cell. You do not need to change anything\n",
    "\n",
    "# A for loop to print out every value in the count_data list\n",
    "# The len() function determines the size of the list\n",
    "# The range() function creates an integer \n",
    "#           list from 0 to len(count_data).\n",
    "\n",
    "for i in range(len(count_data)):\n",
    "    print(count_data[i])"
   ]
  },
  {
   "cell_type": "markdown",
   "metadata": {},
   "source": [
    "# 练习：计算总和\n",
    "\n",
    "我们检查一下你实际实验了多少次。这个练习中，你会计算出count_data列表的总和。所得的和就是你掷骰子的次数。\n",
    "\n",
    "Python list求和的方法相对直接，代码句法如下:\n",
    "\n",
    "```\n",
    "sum(list_variable)\n",
    "```\n",
    "\n"
   ]
  },
  {
   "cell_type": "code",
   "execution_count": null,
   "metadata": {},
   "outputs": [],
   "source": [
    "### \n",
    "# TODO: calculate the sum of the count_data list \n",
    "#     and put the sum in the total_count variable\n",
    "###\n",
    "\n",
    "total_count = 0\n",
    "\n",
    "# This will print out the result\n",
    "print(total_count)"
   ]
  },
  {
   "cell_type": "markdown",
   "metadata": {},
   "source": [
    "# 范例: 数据可视化\n",
    "\n",
    "看这组数据，你已经可以分辨出哪个点数总和出现概率最高：7\n",
    "\n",
    "而且概率分布看起来似乎对称，6和8，5和9都有相同的概率。以下是数据可视化:\n",
    "\n",
    "![Visualization](visualization.png)\n"
   ]
  },
  {
   "cell_type": "markdown",
   "metadata": {},
   "source": [
    "但这样的可视化数据是离散概率分布么？以下几点提醒我们离散概率分布的三个重要特点：\n",
    "\n",
    "* 所有x轴上的值对应的y值都大于或等于零。\n",
    "* 对于每个x，概率值p(x)与y值相等。\n",
    "* 所有y值的总和为1。\n",
    "\n",
    "现在的数据可视化看起来背离了第二和第三条准则。所有y值的总和是2000而不是1。并且y是次数，而非概率的值。"
   ]
  },
  {
   "cell_type": "markdown",
   "metadata": {},
   "source": [
    "# 练习：计算一个离散概率分布\n",
    "\n",
    "怎样将数据转为概率分布呢？目前，所有y值的和是2000，但它们的和需要等于1。\n",
    "\n",
    "如果用每一个y值除以2000会发生什么？\n",
    "\n",
    "比如 54/2000, 111/2000, 163/2000 等? \n",
    "\n",
    "看来对于离散变量，用每个y值除以总次数可以得到离散概率分布。用每个值除以总数叫做标准化或归一化(normalization)。\n",
    "\n",
    "这个练习中，你会写一个for循环将列表中的每个值除以总次数，然后把结果放入一个新的列表，并将其命名为discrete_probability。\n",
    "\n",
    "下面的代码示例能帮助你思考如何创建新列表，来盛装标准化后的次数:\n",
    "\n",
    "```python\n",
    "\n",
    "# a python list\n",
    "mylist = [1, 2, 3, 4, 5]\n",
    "\n",
    "# an empty python list\n",
    "newlist = []\n",
    "\n",
    "# for loop \n",
    "for i in range(len(mylist)):\n",
    "    newlist.append(mylist[i])\n",
    "```"
   ]
  },
  {
   "cell_type": "code",
   "execution_count": null,
   "metadata": {},
   "outputs": [],
   "source": [
    "###\n",
    "# INSTRUCTIONS: Use a for loop to iterate through the \n",
    "#      count_data list\n",
    "# \n",
    "# For each value in the list, divide the value by the total_count\n",
    "# variable.\n",
    "#\n",
    "# You will need to append the results to a new list\n",
    "#\n",
    "###\n",
    "\n",
    "normalized_counts = []\n",
    "\n",
    "# TODO: Write a for loop to iterate through the count_data list.\n",
    "#       Use the for loop example given previously to help\n",
    "#       get yourself started\n",
    "\n",
    "    # TODO: Inside the for loop, divide each value in\n",
    "    # count_data by the total_count variable and append\n",
    "    # the result to the normalized_counts variable.\n",
    "\n",
    "print('Here are the normalized counts: ' )\n",
    "print(normalized_counts)"
   ]
  },
  {
   "cell_type": "markdown",
   "metadata": {},
   "source": [
    "# 范例: 将结果制成图表\n",
    "\n",
    "我们已经写下了能帮助你将结果制成图表的代码。运行以下代码得到图表，如果你正确地将次数标准化，你输出的结果应该像下面这张图：\n",
    "\n",
    "![Probability Plot](plot.png)"
   ]
  },
  {
   "cell_type": "code",
   "execution_count": null,
   "metadata": {},
   "outputs": [],
   "source": [
    "import plot\n",
    "%matplotlib inline\n",
    "plot.plot_probability(normalized_counts)"
   ]
  },
  {
   "cell_type": "markdown",
   "metadata": {},
   "source": [
    "# 检查你的结果\n",
    "\n",
    "运行以下代码来检查你的结果。如果这段代码输出“Awesome work!”，你就得到了预期的结果。我们在课程的下一板块提供了答案。"
   ]
  },
  {
   "cell_type": "code",
   "execution_count": null,
   "metadata": {},
   "outputs": [],
   "source": [
    "assert count_data == [54, 111, 163, 222, 277, 336, 276, 220, 171, 111, 59], \"The count_data variable is not correct.\"\n",
    "assert total_count == 2000, \"The total_count variable is not correct.\"\n",
    "assert normalized_counts == [54/2000, 111/2000, 163/2000, 222/2000, 277/2000, 336/2000, 276/2000, 220/2000, 171/2000, 111/2000, 59/2000], \"The normalized_count variable is not correct.\"\n",
    "print('Awesome work! Your answers are what we expected.')"
   ]
  },
  {
   "cell_type": "code",
   "execution_count": null,
   "metadata": {},
   "outputs": [],
   "source": []
  }
 ],
 "metadata": {
  "kernelspec": {
   "display_name": "Python [default]",
   "language": "python",
   "name": "python3"
  },
  "language_info": {
   "codemirror_mode": {
    "name": "ipython",
    "version": 3
   },
   "file_extension": ".py",
   "mimetype": "text/x-python",
   "name": "python",
   "nbconvert_exporter": "python",
   "pygments_lexer": "ipython3",
   "version": "3.6.4"
  }
 },
 "nbformat": 4,
 "nbformat_minor": 2
}
